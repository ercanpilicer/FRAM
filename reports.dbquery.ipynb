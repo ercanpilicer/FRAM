{
 "cells": [
  {
   "cell_type": "code",
   "execution_count": 0,
   "metadata": {
    "application/vnd.databricks.v1+cell": {
     "cellMetadata": {},
     "inputWidgets": {},
     "nuid": "63d3c06c-a362-4cfc-88fc-c65fbcf27576",
     "showTitle": false,
     "tableResultSettingsMap": {},
     "title": ""
    }
   },
   "outputs": [],
   "source": [
    "select \n",
    "  fatform.staff_number `CrewBID1`, user_list.username `CrewBID2`, \n",
    "  concat(user_list.first_name, ' ', user_list.last_name) `CrewName`, \n",
    "  user_list.email_address `EmailAddress`,\n",
    "  date(form_data.incident_date) `DateOfOccurance`, *\n",
    "from data_prod.silver_safetynet.form_data \n",
    "left join data_prod.silver_safetynet.user_list on user_list.user_id = form_data.reported_by_user_id\n",
    "left join data_prod.silver_safetynet.fatform on fatform.id = form_data.id\n",
    "left join data_prod.silver_safetynet.common_form on common_form.id = form_data.id\n",
    "where form_data.type = :report_type\n",
    "and form_data.incident_date between date_sub(current_date(), 2) and date_add(current_date(), 2)\n",
    "order by date_trunc('day',form_data.incident_date), trim(string(form_data.seq)) asc;\n",
    "\n",
    "/* ------------------------------------------------------------------------------------------- */\n",
    "\n",
    "\n",
    "-- and form_data.incident_date between :date_min and :date_max\n",
    "-- date_format(dateadd(day, leg_day, '1980-01-01'), 'yyyy-MM-dd') `DepDate`\n",
    "-- and form_data.incident_date between date_sub(current_date(), 2) and date_add(current_date(), 2) -- if timestamps without time\n",
    "-- and form_data.incident_date between date_sub(current_timestamp(), 10) and current_timestamp() -- timestamps with date and time\n",
    "-- and to_timestamp(form_data.incident_date) between date_sub(current_timestamp(), 10) and current_timestamp() -- timestamps with date and time and timezone\n",
    "\n",
    "-- staff_number\n",
    "-- crewid=15592\tcrewbid=860934"
   ]
  }
 ],
 "metadata": {
  "application/vnd.databricks.v1+notebook": {
   "computePreferences": null,
   "dashboards": [],
   "environmentMetadata": null,
   "language": "sql",
   "notebookMetadata": {
    "sqlQueryOptions": {
     "applyAutoLimit": true,
     "catalog": "hive_metastore",
     "schema": "default"
    }
   },
   "notebookName": "reports.dbquery.ipynb",
   "widgets": {
    "report_type": {
     "currentValue": "",
     "nuid": "c81542cf-7dc7-4ba6-a1f9-3bcad48b4340",
     "typedWidgetInfo": {
      "autoCreated": true,
      "defaultValue": "",
      "label": null,
      "name": "report_type",
      "options": {
       "widgetDisplayType": "Text",
       "validationRegex": null
      },
      "parameterDataType": "String"
     },
     "widgetInfo": {
      "widgetType": "text",
      "defaultValue": "",
      "label": null,
      "name": "report_type",
      "options": {
       "widgetType": "text",
       "autoCreated": true,
       "validationRegex": null
      }
     }
    }
   }
  },
  "language_info": {
   "name": "sql"
  }
 },
 "nbformat": 4,
 "nbformat_minor": 0
}
