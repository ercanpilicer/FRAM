{
 "cells": [
  {
   "cell_type": "code",
   "execution_count": 0,
   "metadata": {
    "application/vnd.databricks.v1+cell": {
     "cellMetadata": {},
     "inputWidgets": {},
     "nuid": "42cbb307-eacc-427d-bfc1-1941076437d2",
     "showTitle": false,
     "tableResultSettingsMap": {},
     "title": ""
    }
   },
   "outputs": [],
   "source": [
    "select \n",
    "     case when vvcrewcodes.cc is not null then vvcrewcodes.cc else roster.leg_flt end `Flight`,\n",
    "     legmain.dep `Dep`,  legmain.arr `Arr`,\n",
    "     case when legmain.std is not null then concat(lpad(floor(legmain.std / 60), 2, '0'), lpad(mod(legmain.std, 60), 2, '0'))\n",
    "          else concat(lpad(floor(roster.grddutybeg / 60), 2, '0'), lpad(mod(roster.grddutybeg, 60), 2, '0')) end `DepStd`,\n",
    "     case when legmain.sta is not null then concat(lpad(floor(legmain.sta / 60), 2, '0'), lpad(mod(legmain.sta, 60), 2, '0'))\n",
    "          else concat(lpad( floor(roster.grddutyend / 60), 2, '0') , lpad(mod(roster.grddutyend, 60), 2, '0')) end `ArrSta`,\n",
    "     date_format(dateadd(day, leg_day, '1980-01-01'), 'yyyy-MM-dd') `DepDate`,\n",
    "     crewleg.pax `PAX`, \n",
    "     concat(lpad(floor((legmain.std + legmain.ddly) / 60), 2, '0'), lpad(mod((legmain.std + legmain.ddly), 60), 2, '0')) `EstimDep`,\n",
    "     concat(lpad(floor((legmain.sta + legmain.adly) / 60), 2, '0'), lpad(mod((legmain.sta + legmain.adly), 60), 2, '0')) `ActualArr`,\n",
    "     legmain.reg `Tail`, \n",
    "     vvpositions.code, * \n",
    "from data_prod.silver_aims.roster\n",
    "left join data_prod.silver_aims.legmain on roster.leg_day=legmain.day \n",
    "     and roster.leg_dep=legmain.dep \n",
    "     and roster.leg_carrier=legmain.carrier \n",
    "     and roster.leg_flt=legmain.flt \n",
    "     and roster.leg_legcd=legmain.legcd\n",
    "left join data_prod.silver_aims.legtimes on roster.leg_day=legtimes.day \n",
    "     and roster.leg_dep=legtimes.dep \n",
    "     and roster.leg_carrier=legtimes.carrier \n",
    "     and roster.leg_flt=legtimes.flt \n",
    "     and roster.leg_legcd=legtimes.legcd\n",
    "left join data_prod.silver_aims.vvcrewcodes on roster.dutyno=vvcrewcodes.id\n",
    "left join data_prod.silver_aims.vvpositions on roster.pos=vvpositions.rank\n",
    "left join data_prod.silver_aims.vvairctype on roster.ac=vvairctype.actype\n",
    "left join data_prod.silver_aims.crewleg on roster.dutyno=crewleg.croute\n",
    "     and roster.leg_day=crewleg.day\n",
    "     and roster.leg_dep=crewleg.dep\n",
    "     and roster.leg_carrier=crewleg.carrier\n",
    "     and roster.leg_flt=crewleg.flt\n",
    "     and roster.leg_legcd=crewleg.legcd\n",
    "where roster.id= :crewbid \n",
    "and roster.leg_day between (select datediff(day, '1980-01-01', date_sub(:reportdate, 10)) as minday) \n",
    "                       and (select datediff(day, '1980-01-01', date_add(:reportdate, 1)) as minday)\n",
    "order by roster.leg_day, legmain.std asc;\n",
    "\n"
   ]
  }
 ],
 "metadata": {
  "application/vnd.databricks.v1+notebook": {
   "computePreferences": null,
   "dashboards": [],
   "environmentMetadata": null,
   "language": "sql",
   "notebookMetadata": {
    "sqlQueryOptions": {
     "applyAutoLimit": false,
     "catalog": "hive_metastore",
     "schema": "default"
    }
   },
   "notebookName": "roster.dbquery.ipynb",
   "widgets": {
    "crewbid": {
     "currentValue": "",
     "nuid": "b171ee90-7ecc-4d5d-98c8-031b0c3e8270",
     "typedWidgetInfo": {
      "autoCreated": true,
      "defaultValue": "",
      "label": null,
      "name": "crewbid",
      "options": {
       "widgetDisplayType": "Text",
       "validationRegex": null
      },
      "parameterDataType": "String"
     },
     "widgetInfo": {
      "widgetType": "text",
      "defaultValue": "",
      "label": null,
      "name": "crewbid",
      "options": {
       "widgetType": "text",
       "autoCreated": true,
       "validationRegex": null
      }
     }
    },
    "reportdate": {
     "currentValue": "",
     "nuid": "4adc9e19-0ab4-4a05-aca7-3552b3e7ce15",
     "typedWidgetInfo": {
      "autoCreated": true,
      "defaultValue": "",
      "label": null,
      "name": "reportdate",
      "options": {
       "widgetDisplayType": "Text",
       "validationRegex": null
      },
      "parameterDataType": "String"
     },
     "widgetInfo": {
      "widgetType": "text",
      "defaultValue": "",
      "label": null,
      "name": "reportdate",
      "options": {
       "widgetType": "text",
       "autoCreated": true,
       "validationRegex": null
      }
     }
    }
   }
  },
  "language_info": {
   "name": "sql"
  }
 },
 "nbformat": 4,
 "nbformat_minor": 0
}
